{
 "cells": [
  {
   "cell_type": "code",
   "execution_count": 13,
   "metadata": {},
   "outputs": [],
   "source": [
    "import tensorflow as tf\n",
    "\n",
    "from numpy.random import RandomState\n",
    "\n",
    "batch_size = 8\n",
    "\n",
    "w1 = tf.Variable(tf.random_normal([2,3],stddev = 1, seed = 1))\n",
    "w2 = tf.Variable(tf.random_normal([3,1],stddev = 2, seed = 1))"
   ]
  },
  {
   "cell_type": "code",
   "execution_count": 14,
   "metadata": {},
   "outputs": [],
   "source": [
    "x = tf.placeholder(tf.float32, shape = (None,2),name = 'x-input')\n",
    "y_ = tf.placeholder(tf.float32, shape = (None,1),name = 'y-input')\n",
    "\n",
    "a = tf.matmul(x,w1)\n",
    "y = tf.matmul(a,w2)\n",
    "\n",
    "y = tf.sigmoid(y)\n",
    "\n",
    "cross_entropy = -tf.reduce_mean(y_ * tf.log(tf.clip_by_value(y,1e-10,1.0))+(1-y_)*tf.log(tf.clip_by_value(1-y,1e-10,1.0)))\n",
    "\n",
    "train_step = tf.train.AdamOptimizer(0.001).minimize(cross_entropy)\n",
    "\n"
   ]
  },
  {
   "cell_type": "code",
   "execution_count": 36,
   "metadata": {},
   "outputs": [
    {
     "name": "stdout",
     "output_type": "stream",
     "text": [
      "[[-0.8113182   1.4845988   0.06532937]\n",
      " [-2.4427042   0.0992484   0.5912243 ]]\n",
      "[[-1.6226364 ]\n",
      " [ 2.9691975 ]\n",
      " [ 0.13065875]]\n",
      "After 0 training steps, cross_entropy on all data is 3.58168\n",
      "After 1000 training steps, cross_entropy on all data is 0.72445\n",
      "After 2000 training steps, cross_entropy on all data is 0.633808\n",
      "After 3000 training steps, cross_entropy on all data is 0.614262\n",
      "After 4000 training steps, cross_entropy on all data is 0.60909\n",
      "After 5000 training steps, cross_entropy on all data is 0.608197\n",
      "After 6000 training steps, cross_entropy on all data is 0.608092\n",
      "After 7000 training steps, cross_entropy on all data is 0.60808\n",
      "After 8000 training steps, cross_entropy on all data is 0.608079\n",
      "After 9000 training steps, cross_entropy on all data is 0.608079\n"
     ]
    }
   ],
   "source": [
    "rdm = RandomState(1)\n",
    "\n",
    "dataset_size = 128\n",
    "X = rdm.rand(data_size, 2)\n",
    "\n",
    "Y = [[int(x1+x2 < 1)] for (x1,x2) in X]\n",
    "\n",
    "with tf.Session() as sess:\n",
    "    init_op = tf.global_variables_initializer()\n",
    "    \n",
    "    sess.run(init_op)\n",
    "    print (sess.run(w1))\n",
    "    print (sess.run(w2))\n",
    "    \n",
    "    STEP = int(1e4)\n",
    "\n",
    "    for i in range(STEP):\n",
    "        start = ( i * batch_size) % dataset_size\n",
    "        end = min(start +  batch_size, dataset_size)\n",
    "        \n",
    "        sess.run(train_step, feed_dict = {x:X[start:end] , y_:Y[start:end]})\n",
    "        \n",
    "        if i%1000 == 0:\n",
    "            total_cross_entropy = sess.run(cross_entropy,feed_dict = {x:X , y_:Y})\n",
    "            print(\"After %d training steps, cross_entropy on all data is %g\" % (i,total_cross_entropy))\n",
    "            "
   ]
  },
  {
   "cell_type": "code",
   "execution_count": 46,
   "metadata": {},
   "outputs": [
    {
     "name": "stdout",
     "output_type": "stream",
     "text": [
      "q:0\n"
     ]
    }
   ],
   "source": [
    "v3 = tf.get_variable(\"q\",[1],initializer = tf.constant_initializer(9.0))\n",
    "print(v3.name)"
   ]
  },
  {
   "cell_type": "code",
   "execution_count": null,
   "metadata": {},
   "outputs": [],
   "source": []
  }
 ],
 "metadata": {
  "kernelspec": {
   "display_name": "Python 3",
   "language": "python",
   "name": "python3"
  },
  "language_info": {
   "codemirror_mode": {
    "name": "ipython",
    "version": 3
   },
   "file_extension": ".py",
   "mimetype": "text/x-python",
   "name": "python",
   "nbconvert_exporter": "python",
   "pygments_lexer": "ipython3",
   "version": "3.7.1"
  }
 },
 "nbformat": 4,
 "nbformat_minor": 2
}
