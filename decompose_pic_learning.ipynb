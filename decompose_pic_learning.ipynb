{
 "cells": [
  {
   "cell_type": "code",
   "execution_count": 1,
   "metadata": {},
   "outputs": [],
   "source": [
    "import tensorflow as tf\n",
    "import matplotlib.pyplot as plt\n",
    "from tensorflow.examples.tutorials.mnist import input_data\n",
    "import os\n",
    "import numpy as np\n",
    "import warnings\n",
    "import scipy.misc\n",
    "import random\n",
    "\n",
    "warnings.filterwarnings(\"ignore\")"
   ]
  },
  {
   "cell_type": "code",
   "execution_count": 3,
   "metadata": {},
   "outputs": [],
   "source": [
    "pic_num_train = 40\n",
    "pic_train = np.zeros((80,25*14,32*14))\n",
    "label_train = np.zeros((80,25*14,32*14,2))\n",
    "fmap_train = np.zeros((80,25,32))\n",
    "for i in range (pic_num_train):\n",
    "    pic_train[i,:,:] = scipy.misc.imread('Sparse_dataset_mean/train/negtive_pic/train_'+str(i)+ '.png')\n",
    "    label_train[i,0] = 1\n",
    "    fmap_train[i,:,:] = np.load('Sparse_dataset_mean/train/negtive_pic/train_'+str(i)+ '.npy').T\n",
    "\n",
    "for i in range (pic_num_train):\n",
    "    pic_train[i+pic_num_train,:,:] = scipy.misc.imread('Sparse_dataset_mean/train/positive_pic/train_'+str(i)+ '.png')\n",
    "    label_train[i+pic_num_train,1] = 1\n",
    "    fmap_train[i+pic_num_train,:,:] = np.load('Sparse_dataset_mean/train/positive_pic/train_'+str(i)+ '.npy').T\n",
    "\n",
    "#plt.imshow(pic_train[79,:,:], cmap='gray')\n",
    "#plt.show()"
   ]
  },
  {
   "cell_type": "code",
   "execution_count": 4,
   "metadata": {},
   "outputs": [
    {
     "name": "stdout",
     "output_type": "stream",
     "text": [
      "100\n",
      "200\n",
      "300\n",
      "400\n",
      "500\n",
      "600\n",
      "700\n",
      "800\n",
      "900\n",
      "1000\n"
     ]
    }
   ],
   "source": [
    "pic_num_test = 500\n",
    "pic_test = np.zeros((1000,25*14,32*14))\n",
    "label_test = np.zeros((1000,2))\n",
    "fmap_test = np.zeros((1000,25,32))\n",
    "for i in range (pic_num_test):\n",
    "    pic_test[i,:,:] = scipy.misc.imread('Sparse_dataset_mean/test/negtive_pic/test_'+str(i)+ '.png')\n",
    "    label_test[i,0] = 1\n",
    "    fmap_test[i,:,:] = np.load('Sparse_dataset_mean/test/negtive_pic/test_'+str(i)+ '.npy').T\n",
    "    if ((i+1)%100 ==0):\n",
    "        print(i + 1)\n",
    "\n",
    "for i in range (pic_num_test):\n",
    "    pic_test[i+pic_num_test,:,:] = scipy.misc.imread('Sparse_dataset_mean/test/positive_pic/test_'+str(i)+ '.png')\n",
    "    label_test[i+pic_num_test,1] = 1\n",
    "    fmap_test[i+pic_num_test,:,:] = np.load('Sparse_dataset_mean/test/positive_pic/test_'+str(i)+ '.npy').T\n",
    "    if ((i+1)%100 ==0):\n",
    "        print(i + 1 + pic_num_test)"
   ]
  },
  {
   "cell_type": "code",
   "execution_count": null,
   "metadata": {},
   "outputs": [],
   "source": []
  },
  {
   "cell_type": "code",
   "execution_count": null,
   "metadata": {},
   "outputs": [],
   "source": []
  }
 ],
 "metadata": {
  "kernelspec": {
   "display_name": "Python 3",
   "language": "python",
   "name": "python3"
  },
  "language_info": {
   "codemirror_mode": {
    "name": "ipython",
    "version": 3
   },
   "file_extension": ".py",
   "mimetype": "text/x-python",
   "name": "python",
   "nbconvert_exporter": "python",
   "pygments_lexer": "ipython3",
   "version": "3.7.1"
  }
 },
 "nbformat": 4,
 "nbformat_minor": 2
}
