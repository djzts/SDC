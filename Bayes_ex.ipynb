{
 "cells": [
  {
   "cell_type": "code",
   "execution_count": 2,
   "metadata": {},
   "outputs": [],
   "source": [
    "import numpy as np"
   ]
  },
  {
   "cell_type": "code",
   "execution_count": 114,
   "metadata": {},
   "outputs": [],
   "source": [
    "PH = np.array([0.1,0.2,0.4,0.2,0.1])\n",
    "\n",
    "PNH = np.array([0,0.25,0.5,0.75,1]) \n",
    "\n",
    "Px = 0.5\n",
    "\n",
    "np.set_printoptions(suppress=True)"
   ]
  },
  {
   "cell_type": "code",
   "execution_count": 115,
   "metadata": {},
   "outputs": [
    {
     "name": "stdout",
     "output_type": "stream",
     "text": [
      "[0.           0.1483516484 0.7032967033 0.1483516484 0.          ]\n"
     ]
    }
   ],
   "source": [
    "PHN_temp = np.zeros(5)\n",
    "\n",
    "for i in range(3):\n",
    "    PHN = np.multiply(PH,PNH)/Px\n",
    "    PH = PHN/sum(PHN)\n",
    "    PHN = np.multiply(PH,1-PNH)/Px\n",
    "    PH = PHN/sum(PHN)\n",
    "    \n",
    "print(PH)\n",
    "    \n",
    "        \n",
    "    \n",
    "    \n",
    "\n"
   ]
  },
  {
   "cell_type": "code",
   "execution_count": 116,
   "metadata": {},
   "outputs": [
    {
     "name": "stdout",
     "output_type": "stream",
     "text": [
      "[0.           0.1483516484 0.7032967033 0.1483516484 0.          ]\n"
     ]
    }
   ],
   "source": [
    "PHN = PHN/sum(PHN)\n",
    "print(PHN)"
   ]
  },
  {
   "cell_type": "code",
   "execution_count": 117,
   "metadata": {},
   "outputs": [
    {
     "data": {
      "text/plain": [
       "array([0.  , 0.05, 0.2 , 0.15, 0.1 ])"
      ]
     },
     "execution_count": 117,
     "metadata": {},
     "output_type": "execute_result"
    }
   ],
   "source": [
    "np.multiply([0.1,0.2,0.4,0.2,0.1],[0,0.25,0.5,0.75,1])"
   ]
  },
  {
   "cell_type": "code",
   "execution_count": null,
   "metadata": {},
   "outputs": [],
   "source": []
  }
 ],
 "metadata": {
  "kernelspec": {
   "display_name": "Python 3",
   "language": "python",
   "name": "python3"
  },
  "language_info": {
   "codemirror_mode": {
    "name": "ipython",
    "version": 3
   },
   "file_extension": ".py",
   "mimetype": "text/x-python",
   "name": "python",
   "nbconvert_exporter": "python",
   "pygments_lexer": "ipython3",
   "version": "3.7.1"
  }
 },
 "nbformat": 4,
 "nbformat_minor": 2
}
