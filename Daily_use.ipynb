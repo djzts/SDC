{
 "cells": [
  {
   "cell_type": "code",
   "execution_count": 2,
   "metadata": {},
   "outputs": [],
   "source": [
    "import tensorflow as tf\n"
   ]
  },
  {
   "cell_type": "code",
   "execution_count": 3,
   "metadata": {},
   "outputs": [],
   "source": [
    "a = tf.constant([1.0,2.0],name=\"a\")\n",
    "b = tf.constant([2.0,3.0],name=\"b\")"
   ]
  },
  {
   "cell_type": "code",
   "execution_count": 4,
   "metadata": {},
   "outputs": [],
   "source": [
    "result = a+b"
   ]
  },
  {
   "cell_type": "code",
   "execution_count": 5,
   "metadata": {},
   "outputs": [
    {
     "data": {
      "text/plain": [
       "array([3., 5.], dtype=float32)"
      ]
     },
     "execution_count": 5,
     "metadata": {},
     "output_type": "execute_result"
    }
   ],
   "source": [
    "sess =tf.Session()\n",
    "sess.run(result)"
   ]
  },
  {
   "cell_type": "code",
   "execution_count": 6,
   "metadata": {},
   "outputs": [
    {
     "name": "stdout",
     "output_type": "stream",
     "text": [
      "True\n"
     ]
    }
   ],
   "source": [
    "print(a.graph is tf.get_default_graph())"
   ]
  },
  {
   "cell_type": "code",
   "execution_count": 7,
   "metadata": {},
   "outputs": [
    {
     "data": {
      "text/plain": [
       "<tensorflow.python.framework.ops.Graph at 0xb2b294dd8>"
      ]
     },
     "execution_count": 7,
     "metadata": {},
     "output_type": "execute_result"
    }
   ],
   "source": [
    "a.graph"
   ]
  },
  {
   "cell_type": "code",
   "execution_count": 14,
   "metadata": {},
   "outputs": [
    {
     "name": "stdout",
     "output_type": "stream",
     "text": [
      "4.0\n",
      "20.0\n",
      "34.0\n",
      "45.0\n",
      "53.0\n",
      "70.0\n",
      "77.0\n",
      "83.0\n",
      "97.0\n",
      "114.0\n"
     ]
    }
   ],
   "source": [
    "import tensorflow as tf\n",
    "import sys\n",
    "#创建稍微复杂一点的队列作为例子\n",
    "q = tf.FIFOQueue(1000,\"float\")\n",
    "#计数器\n",
    "counter = tf.Variable(0.0)\n",
    "#操作:给计数器加一\n",
    "increment_op = tf.assign_add(counter,tf.constant(1.0))\n",
    "#操作:将计数器加入队列\n",
    "enqueue_op = q.enqueue(counter)\n",
    " \n",
    "#创建一个队列管理器QueueRunner，用这两个操作向q中添加元素。目前我们只使用一个线程:\n",
    "qr = tf.train.QueueRunner(q,enqueue_ops=[increment_op,enqueue_op]*1)\n",
    " \n",
    "# 主线程\n",
    "sess = tf.Session()\n",
    "sess.run(tf.initialize_all_variables())\n",
    " \n",
    "enqueue_threads = qr.create_threads(sess, start=True)  # 启动入队线程\n",
    " \n",
    "# 主线程\n",
    "for i in range(0, 10):\n",
    "    print(sess.run(q.dequeue()))"
   ]
  },
  {
   "cell_type": "code",
   "execution_count": 1,
   "metadata": {},
   "outputs": [
    {
     "name": "stdout",
     "output_type": "stream",
     "text": [
      "1.2\n",
      "1.3\n",
      "2.1\n"
     ]
    }
   ],
   "source": [
    "import tensorflow as tf\n",
    " \n",
    "#创建的图:一个先入先出队列,以及初始化,出队,+1,入队操作\n",
    "q = tf.FIFOQueue(3, \"float\")\n",
    "init = q.enqueue_many(([0.1, 0.2, 0.3],))\n",
    "x = q.dequeue()\n",
    "y = x + 1\n",
    "q_inc = q.enqueue([y])\n",
    " \n",
    "\n",
    "with tf.Session() as sess:\n",
    "        sess.run(init)\n",
    " \n",
    "        for i in range(4):\n",
    "                sess.run(q_inc)\n",
    " \n",
    "        quelen =  sess.run(q.size())\n",
    "        for i in range(quelen):\n",
    "                print (sess.run(q.dequeue()))\n"
   ]
  },
  {
   "cell_type": "code",
   "execution_count": null,
   "metadata": {},
   "outputs": [],
   "source": []
  },
  {
   "cell_type": "code",
   "execution_count": null,
   "metadata": {},
   "outputs": [],
   "source": []
  }
 ],
 "metadata": {
  "kernelspec": {
   "display_name": "Python 3",
   "language": "python",
   "name": "python3"
  },
  "language_info": {
   "codemirror_mode": {
    "name": "ipython",
    "version": 3
   },
   "file_extension": ".py",
   "mimetype": "text/x-python",
   "name": "python",
   "nbconvert_exporter": "python",
   "pygments_lexer": "ipython3",
   "version": "3.7.1"
  }
 },
 "nbformat": 4,
 "nbformat_minor": 2
}
