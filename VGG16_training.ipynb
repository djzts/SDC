{
 "cells": [
  {
   "cell_type": "code",
   "execution_count": 27,
   "metadata": {},
   "outputs": [],
   "source": [
    "import os\n",
    "os.environ['CUDA_VISIBLE_DEVICES'] = '-1'\n"
   ]
  },
  {
   "cell_type": "code",
   "execution_count": 28,
   "metadata": {},
   "outputs": [],
   "source": [
    "import tensorflow as tf\n",
    "import matplotlib.pyplot as plt\n",
    "from tensorflow.examples.tutorials.mnist import input_data\n",
    "import os\n",
    "import numpy as np\n",
    "import warnings\n",
    "import scipy.misc\n",
    "import random\n",
    "\n",
    "warnings.filterwarnings(\"ignore\")"
   ]
  },
  {
   "cell_type": "code",
   "execution_count": null,
   "metadata": {},
   "outputs": [],
   "source": []
  },
  {
   "cell_type": "code",
   "execution_count": 37,
   "metadata": {},
   "outputs": [
    {
     "name": "stdout",
     "output_type": "stream",
     "text": [
      "[ 8 37 19 55 24 47 63 34  2 52 16 72 36 22 32 78  9 27 43 15 40 21 25 51\n",
      " 77 79 64 35  3  4 56 58 38 33 17 45  7 50 73 46 18 31 41 69  0 49 13 68\n",
      " 10 53  1 20 26 28 12  6 76 66  5 11 23 29 14 44 70 65 62 75 39 30 57 74\n",
      " 42 59 48 71 54 61 60 67]\n"
     ]
    }
   ],
   "source": [
    "pic_num_train = 40\n",
    "pic_train = np.zeros((80,25*14,32*14))\n",
    "label_train = np.zeros((80,2))\n",
    "train_rnd_list = np.random.choice(80, 80, replace=False)\n",
    "print(train_rnd_list)\n",
    "\n",
    "for i in range (pic_num_train):\n",
    "    pic_train[train_rnd_list[i],:,:] = scipy.misc.imread('Sparse_dataset_mean/train/negtive_pic/train_'+str(i)+ '.png')\n",
    "    label_train[train_rnd_list[i],0] = 1\n",
    "\n",
    "for i in range (pic_num_train):\n",
    "    pic_train[train_rnd_list[i+pic_num_train],:,:] = scipy.misc.imread('Sparse_dataset_mean/train/positive_pic/train_'+str(i)+ '.png')\n",
    "    label_train[[train_rnd_list[i+pic_num_train]],1] = 1\n",
    "\n",
    "#plt.imshow(pic_train[79,:,:], cmap='gray')\n",
    "#plt.show()\n",
    "\n",
    "#print(label_train)"
   ]
  },
  {
   "cell_type": "code",
   "execution_count": 38,
   "metadata": {},
   "outputs": [
    {
     "name": "stdout",
     "output_type": "stream",
     "text": [
      "100\n",
      "200\n",
      "300\n",
      "400\n",
      "500\n",
      "600\n",
      "700\n",
      "800\n",
      "900\n",
      "1000\n"
     ]
    }
   ],
   "source": [
    "pic_num_test = 500\n",
    "pic_test = np.zeros((1000,25*14,32*14))\n",
    "label_test = np.zeros((1000,2))\n",
    "test_rnd_list = np.random.choice(1000, 1000, replace=False)\n",
    "\n",
    "\n",
    "for i in range (pic_num_test):\n",
    "    pic_test[test_rnd_list[i],:,:] = scipy.misc.imread('Sparse_dataset_mean/test/negtive_pic/test_'+str(i)+ '.png')\n",
    "    label_test[test_rnd_list[i],0] = 1\n",
    "    if ((i+1)%100 ==0):\n",
    "        print(i + 1)\n",
    "\n",
    "for i in range (pic_num_test):\n",
    "    pic_test[test_rnd_list[i+pic_num_test],:,:] = scipy.misc.imread('Sparse_dataset_mean/test/positive_pic/test_'+str(i)+ '.png')\n",
    "    label_test[test_rnd_list[i+pic_num_test],1] = 1\n",
    "    if ((i+1)%100 ==0):\n",
    "        print(i + 1 + pic_num_test)"
   ]
  },
  {
   "cell_type": "code",
   "execution_count": null,
   "metadata": {},
   "outputs": [],
   "source": []
  },
  {
   "cell_type": "code",
   "execution_count": 39,
   "metadata": {},
   "outputs": [],
   "source": [
    "from keras import Sequential\n",
    "from keras.layers import Conv2D,MaxPooling2D,Flatten,Softmax,Activation,Dense\n",
    "from keras.utils.np_utils import to_categorical\n",
    "from keras.datasets import mnist\n",
    "from sklearn.metrics import recall_score,f1_score,precision_score\n"
   ]
  },
  {
   "cell_type": "code",
   "execution_count": 40,
   "metadata": {},
   "outputs": [],
   "source": [
    "pic_train=pic_train.reshape(-1,25*14,32*14,1)  #这里我们使用的是黑白图片\n",
    "pic_test=pic_test.reshape(-1,25*14,32*14,1)\n",
    "Y_train=to_categorical(label_train,num_classes= 2)\n",
    "Y_test=to_categorical(label_test,num_classes= 2)\n"
   ]
  },
  {
   "cell_type": "code",
   "execution_count": 41,
   "metadata": {},
   "outputs": [],
   "source": [
    "def VGG(X,Y):\n",
    "    model=Sequential()\n",
    "    #layer_1\n",
    "    model.add(Conv2D(64,(3,3),strides=(1,1),input_shape=X.shape[1:],padding='same',data_format='channels_last',activation='relu',kernel_initializer='uniform'))\n",
    "    model.add(Conv2D(64,(3,3),strides=(1,1),padding='same',data_format='channels_last',kernel_initializer='uniform',activation='relu'))\n",
    "    model.add(MaxPooling2D((2,2)))\n",
    "\n",
    "    #layer_2\n",
    "    model.add(Conv2D(128,(3,3),strides=(1,1),padding='same',data_format='channels_last',activation='relu',kernel_initializer='uniform'))\n",
    "    model.add(Conv2D(128,(2,2),strides=(1,1),padding='same',data_format='channels_last',activation='relu',kernel_initializer='uniform'))\n",
    "    model.add(MaxPooling2D((2,2)))\n",
    "\n",
    "    #layer_3\n",
    "    model.add(Conv2D(256,(3,3),strides=(1,1),padding='same',data_format='channels_last',activation='relu'))\n",
    "    model.add(Conv2D(256,(3,3),strides=(1,1),padding='same',data_format='channels_last',activation='relu'))\n",
    "    model.add(Conv2D(256, (1, 1), strides=(1, 1), padding='same', data_format='channels_last', activation='relu'))\n",
    "    model.add(MaxPooling2D((2,2)))\n",
    "    #layer_4\n",
    "    model.add(Conv2D(512,(3,3),strides=(1,1),padding='same',data_format='channels_last',activation='relu'))\n",
    "    model.add(Conv2D(512, (3, 3), strides=(1, 1), padding='same', data_format='channels_last', activation='relu'))\n",
    "    model.add(Conv2D(512, (1,1), strides=(1, 1), padding='same', data_format='channels_last', activation='relu'))\n",
    "    model.add(MaxPooling2D((2,2)))\n",
    "\n",
    "    #layer_5\n",
    "    model.add(Conv2D(512,(3,3),strides=(1,1),padding='same',data_format='channels_last',activation='relu'))\n",
    "    model.add(Conv2D(512, (3, 3), strides=(1, 1), padding='same', data_format='channels_last', activation='relu'))\n",
    "    model.add(Conv2D(512, (1,1), strides=(1, 1), padding='same', data_format='channels_last', activation='relu'))\n",
    "    model.add(MaxPooling2D((2,2)))\n",
    "\n",
    "    model.add(Flatten())  #拉平\n",
    "    model.add(Dense(4096,activation='relu'))\n",
    "    model.add(Dense(4096,activation='relu'))\n",
    "    model.add(Dense(1024,activation='relu'))\n",
    "    #model.add(Dense(256,activation='relu'))\n",
    "    model.add(Dense(2,activation='softmax'))\n",
    "\n",
    "    model.summary()\n",
    "    model.compile(optimizer='adam',loss='categorical_crossentropy',metrics=['accuracy'])\n",
    "\n",
    "    return model\n"
   ]
  },
  {
   "cell_type": "code",
   "execution_count": null,
   "metadata": {},
   "outputs": [
    {
     "name": "stdout",
     "output_type": "stream",
     "text": [
      "Model: \"sequential_6\"\n",
      "_________________________________________________________________\n",
      "Layer (type)                 Output Shape              Param #   \n",
      "=================================================================\n",
      "conv2d_66 (Conv2D)           (None, 350, 448, 64)      640       \n",
      "_________________________________________________________________\n",
      "conv2d_67 (Conv2D)           (None, 350, 448, 64)      36928     \n",
      "_________________________________________________________________\n",
      "max_pooling2d_26 (MaxPooling (None, 175, 224, 64)      0         \n",
      "_________________________________________________________________\n",
      "conv2d_68 (Conv2D)           (None, 175, 224, 128)     73856     \n",
      "_________________________________________________________________\n",
      "conv2d_69 (Conv2D)           (None, 175, 224, 128)     65664     \n",
      "_________________________________________________________________\n",
      "max_pooling2d_27 (MaxPooling (None, 87, 112, 128)      0         \n",
      "_________________________________________________________________\n",
      "conv2d_70 (Conv2D)           (None, 87, 112, 256)      295168    \n",
      "_________________________________________________________________\n",
      "conv2d_71 (Conv2D)           (None, 87, 112, 256)      590080    \n",
      "_________________________________________________________________\n",
      "conv2d_72 (Conv2D)           (None, 87, 112, 256)      65792     \n",
      "_________________________________________________________________\n",
      "max_pooling2d_28 (MaxPooling (None, 43, 56, 256)       0         \n",
      "_________________________________________________________________\n",
      "conv2d_73 (Conv2D)           (None, 43, 56, 512)       1180160   \n",
      "_________________________________________________________________\n",
      "conv2d_74 (Conv2D)           (None, 43, 56, 512)       2359808   \n",
      "_________________________________________________________________\n",
      "conv2d_75 (Conv2D)           (None, 43, 56, 512)       262656    \n",
      "_________________________________________________________________\n",
      "max_pooling2d_29 (MaxPooling (None, 21, 28, 512)       0         \n",
      "_________________________________________________________________\n",
      "conv2d_76 (Conv2D)           (None, 21, 28, 512)       2359808   \n",
      "_________________________________________________________________\n",
      "conv2d_77 (Conv2D)           (None, 21, 28, 512)       2359808   \n",
      "_________________________________________________________________\n",
      "conv2d_78 (Conv2D)           (None, 21, 28, 512)       262656    \n",
      "_________________________________________________________________\n",
      "max_pooling2d_30 (MaxPooling (None, 10, 14, 512)       0         \n",
      "_________________________________________________________________\n",
      "flatten_6 (Flatten)          (None, 71680)             0         \n",
      "_________________________________________________________________\n",
      "dense_23 (Dense)             (None, 4096)              293605376 \n",
      "_________________________________________________________________\n",
      "dense_24 (Dense)             (None, 4096)              16781312  \n",
      "_________________________________________________________________\n",
      "dense_25 (Dense)             (None, 1024)              4195328   \n",
      "_________________________________________________________________\n",
      "dense_26 (Dense)             (None, 2)                 2050      \n",
      "=================================================================\n",
      "Total params: 324,497,090\n",
      "Trainable params: 324,497,090\n",
      "Non-trainable params: 0\n",
      "_________________________________________________________________\n",
      "Epoch 1/10\n",
      "80/80 [==============================] - 125s 2s/step - loss: 6.4196 - acc: 0.4750\n",
      "Epoch 2/10\n",
      "80/80 [==============================] - 101s 1s/step - loss: 8.0590 - acc: 0.5000\n",
      "Epoch 3/10\n",
      "80/80 [==============================] - 102s 1s/step - loss: 8.0590 - acc: 0.5000\n",
      "Epoch 4/10\n",
      "40/80 [==============>...............] - ETA: 51s - loss: 8.8650 - acc: 0.4500 "
     ]
    }
   ],
   "source": [
    "if __name__==\"__main__\":\n",
    "    model=VGG(pic_train,label_train)\n",
    "    model.fit(pic_train,label_train,batch_size=20,epochs=10)\n",
    "    label_predict=model.predict(pic_train)\n",
    "    print(label_predict)\n",
    "    \n",
    "    loss,acc=model.evaluate(pic_test,label_test)\n",
    "    print(loss,acc)\n",
    "    \n"
   ]
  },
  {
   "cell_type": "code",
   "execution_count": null,
   "metadata": {},
   "outputs": [],
   "source": []
  },
  {
   "cell_type": "code",
   "execution_count": null,
   "metadata": {},
   "outputs": [],
   "source": []
  }
 ],
 "metadata": {
  "kernelspec": {
   "display_name": "Python 3",
   "language": "python",
   "name": "python3"
  },
  "language_info": {
   "codemirror_mode": {
    "name": "ipython",
    "version": 3
   },
   "file_extension": ".py",
   "mimetype": "text/x-python",
   "name": "python",
   "nbconvert_exporter": "python",
   "pygments_lexer": "ipython3",
   "version": "3.6.5"
  }
 },
 "nbformat": 4,
 "nbformat_minor": 2
}
